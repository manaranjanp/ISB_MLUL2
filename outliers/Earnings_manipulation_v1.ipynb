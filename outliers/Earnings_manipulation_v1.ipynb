{
 "cells": [
  {
   "cell_type": "markdown",
   "id": "702c92b6",
   "metadata": {},
   "source": [
    "# Finding Outliers"
   ]
  },
  {
   "cell_type": "code",
   "execution_count": 50,
   "id": "8bb7ad38",
   "metadata": {},
   "outputs": [],
   "source": [
    "import os\n",
    "\n",
    "import matplotlib.pyplot as plt\n",
    "import seaborn as sn\n",
    "import numpy as np\n",
    "import pandas as pd\n",
    "from sklearn.ensemble import IsolationForest\n",
    "from sklearn.metrics import classification_report, confusion_matrix, ConfusionMatrixDisplay\n",
    "from sklearn.neighbors import LocalOutlierFactor\n",
    "from sklearn.preprocessing import StandardScaler\n",
    "\n",
    "import warnings\n",
    "warnings.filterwarnings('ignore')"
   ]
  },
  {
   "cell_type": "markdown",
   "id": "dca145e0",
   "metadata": {},
   "source": [
    "## Dataset"
   ]
  },
  {
   "cell_type": "code",
   "execution_count": 2,
   "id": "3c7a87e2",
   "metadata": {},
   "outputs": [],
   "source": [
    "# Read training and test data\n",
    "\n",
    "earnings_df = pd.read_csv(\"fraud_data_new.csv\")"
   ]
  },
  {
   "cell_type": "code",
   "execution_count": 3,
   "id": "38ae9683",
   "metadata": {},
   "outputs": [
    {
     "data": {
      "text/html": [
       "<div>\n",
       "<style scoped>\n",
       "    .dataframe tbody tr th:only-of-type {\n",
       "        vertical-align: middle;\n",
       "    }\n",
       "\n",
       "    .dataframe tbody tr th {\n",
       "        vertical-align: top;\n",
       "    }\n",
       "\n",
       "    .dataframe thead th {\n",
       "        text-align: right;\n",
       "    }\n",
       "</style>\n",
       "<table border=\"1\" class=\"dataframe\">\n",
       "  <thead>\n",
       "    <tr style=\"text-align: right;\">\n",
       "      <th></th>\n",
       "      <th>company_id</th>\n",
       "      <th>dsri</th>\n",
       "      <th>gmi</th>\n",
       "      <th>aqi</th>\n",
       "      <th>sgi</th>\n",
       "      <th>depi</th>\n",
       "      <th>sgai</th>\n",
       "      <th>accr</th>\n",
       "      <th>levi</th>\n",
       "      <th>status</th>\n",
       "    </tr>\n",
       "  </thead>\n",
       "  <tbody>\n",
       "    <tr>\n",
       "      <th>409</th>\n",
       "      <td>410</td>\n",
       "      <td>1.134393</td>\n",
       "      <td>1.209066</td>\n",
       "      <td>1.660997</td>\n",
       "      <td>1.235956</td>\n",
       "      <td>1.084340</td>\n",
       "      <td>1.074128</td>\n",
       "      <td>-0.032658</td>\n",
       "      <td>1.207059</td>\n",
       "      <td>No</td>\n",
       "    </tr>\n",
       "    <tr>\n",
       "      <th>642</th>\n",
       "      <td>643</td>\n",
       "      <td>1.361375</td>\n",
       "      <td>1.103601</td>\n",
       "      <td>1.272158</td>\n",
       "      <td>0.900477</td>\n",
       "      <td>0.973495</td>\n",
       "      <td>0.772537</td>\n",
       "      <td>0.001252</td>\n",
       "      <td>1.110383</td>\n",
       "      <td>No</td>\n",
       "    </tr>\n",
       "    <tr>\n",
       "      <th>1044</th>\n",
       "      <td>1045</td>\n",
       "      <td>1.063227</td>\n",
       "      <td>1.259564</td>\n",
       "      <td>-0.275252</td>\n",
       "      <td>0.842003</td>\n",
       "      <td>0.807891</td>\n",
       "      <td>1.000000</td>\n",
       "      <td>-0.089392</td>\n",
       "      <td>0.960065</td>\n",
       "      <td>No</td>\n",
       "    </tr>\n",
       "    <tr>\n",
       "      <th>1043</th>\n",
       "      <td>1044</td>\n",
       "      <td>1.238849</td>\n",
       "      <td>1.057584</td>\n",
       "      <td>1.026933</td>\n",
       "      <td>1.000288</td>\n",
       "      <td>0.929404</td>\n",
       "      <td>0.631542</td>\n",
       "      <td>-0.075913</td>\n",
       "      <td>1.132258</td>\n",
       "      <td>No</td>\n",
       "    </tr>\n",
       "    <tr>\n",
       "      <th>1144</th>\n",
       "      <td>1145</td>\n",
       "      <td>0.926926</td>\n",
       "      <td>0.910272</td>\n",
       "      <td>0.852578</td>\n",
       "      <td>1.065012</td>\n",
       "      <td>0.593965</td>\n",
       "      <td>1.801949</td>\n",
       "      <td>-0.103330</td>\n",
       "      <td>1.013344</td>\n",
       "      <td>No</td>\n",
       "    </tr>\n",
       "    <tr>\n",
       "      <th>546</th>\n",
       "      <td>547</td>\n",
       "      <td>1.321181</td>\n",
       "      <td>0.710709</td>\n",
       "      <td>0.832165</td>\n",
       "      <td>1.220635</td>\n",
       "      <td>0.970630</td>\n",
       "      <td>0.974891</td>\n",
       "      <td>0.095085</td>\n",
       "      <td>0.735368</td>\n",
       "      <td>No</td>\n",
       "    </tr>\n",
       "    <tr>\n",
       "      <th>355</th>\n",
       "      <td>356</td>\n",
       "      <td>0.980680</td>\n",
       "      <td>0.994670</td>\n",
       "      <td>0.893846</td>\n",
       "      <td>1.100498</td>\n",
       "      <td>0.915084</td>\n",
       "      <td>1.301410</td>\n",
       "      <td>-0.015111</td>\n",
       "      <td>0.762835</td>\n",
       "      <td>No</td>\n",
       "    </tr>\n",
       "    <tr>\n",
       "      <th>982</th>\n",
       "      <td>983</td>\n",
       "      <td>1.803483</td>\n",
       "      <td>0.869359</td>\n",
       "      <td>-1.556569</td>\n",
       "      <td>1.072134</td>\n",
       "      <td>0.996277</td>\n",
       "      <td>0.733334</td>\n",
       "      <td>0.080736</td>\n",
       "      <td>1.136785</td>\n",
       "      <td>No</td>\n",
       "    </tr>\n",
       "    <tr>\n",
       "      <th>529</th>\n",
       "      <td>530</td>\n",
       "      <td>0.985958</td>\n",
       "      <td>1.157131</td>\n",
       "      <td>11.111603</td>\n",
       "      <td>1.149656</td>\n",
       "      <td>0.951745</td>\n",
       "      <td>1.292239</td>\n",
       "      <td>0.015212</td>\n",
       "      <td>1.190836</td>\n",
       "      <td>No</td>\n",
       "    </tr>\n",
       "    <tr>\n",
       "      <th>670</th>\n",
       "      <td>671</td>\n",
       "      <td>1.404746</td>\n",
       "      <td>0.934590</td>\n",
       "      <td>3.987590</td>\n",
       "      <td>0.926783</td>\n",
       "      <td>1.103845</td>\n",
       "      <td>0.696446</td>\n",
       "      <td>-0.112703</td>\n",
       "      <td>1.072661</td>\n",
       "      <td>No</td>\n",
       "    </tr>\n",
       "  </tbody>\n",
       "</table>\n",
       "</div>"
      ],
      "text/plain": [
       "      company_id      dsri       gmi        aqi       sgi      depi      sgai  \\\n",
       "409          410  1.134393  1.209066   1.660997  1.235956  1.084340  1.074128   \n",
       "642          643  1.361375  1.103601   1.272158  0.900477  0.973495  0.772537   \n",
       "1044        1045  1.063227  1.259564  -0.275252  0.842003  0.807891  1.000000   \n",
       "1043        1044  1.238849  1.057584   1.026933  1.000288  0.929404  0.631542   \n",
       "1144        1145  0.926926  0.910272   0.852578  1.065012  0.593965  1.801949   \n",
       "546          547  1.321181  0.710709   0.832165  1.220635  0.970630  0.974891   \n",
       "355          356  0.980680  0.994670   0.893846  1.100498  0.915084  1.301410   \n",
       "982          983  1.803483  0.869359  -1.556569  1.072134  0.996277  0.733334   \n",
       "529          530  0.985958  1.157131  11.111603  1.149656  0.951745  1.292239   \n",
       "670          671  1.404746  0.934590   3.987590  0.926783  1.103845  0.696446   \n",
       "\n",
       "          accr      levi status  \n",
       "409  -0.032658  1.207059     No  \n",
       "642   0.001252  1.110383     No  \n",
       "1044 -0.089392  0.960065     No  \n",
       "1043 -0.075913  1.132258     No  \n",
       "1144 -0.103330  1.013344     No  \n",
       "546   0.095085  0.735368     No  \n",
       "355  -0.015111  0.762835     No  \n",
       "982   0.080736  1.136785     No  \n",
       "529   0.015212  1.190836     No  \n",
       "670  -0.112703  1.072661     No  "
      ]
     },
     "execution_count": 3,
     "metadata": {},
     "output_type": "execute_result"
    }
   ],
   "source": [
    "earnings_df.sample(10)"
   ]
  },
  {
   "cell_type": "code",
   "execution_count": 4,
   "id": "206766fe",
   "metadata": {},
   "outputs": [
    {
     "data": {
      "text/plain": [
       "company_id    0\n",
       "dsri          0\n",
       "gmi           0\n",
       "aqi           0\n",
       "sgi           0\n",
       "depi          0\n",
       "sgai          0\n",
       "accr          0\n",
       "levi          0\n",
       "status        0\n",
       "dtype: int64"
      ]
     },
     "execution_count": 4,
     "metadata": {},
     "output_type": "execute_result"
    }
   ],
   "source": [
    "np.sum(earnings_df.isna())"
   ]
  },
  {
   "cell_type": "code",
   "execution_count": 5,
   "id": "0d0991b6",
   "metadata": {},
   "outputs": [],
   "source": [
    "earnings_df['status'] = earnings_df['status'].map(lambda x: 1 if x == 'Yes' else 0)"
   ]
  },
  {
   "cell_type": "code",
   "execution_count": 6,
   "id": "ca6d6824",
   "metadata": {},
   "outputs": [
    {
     "data": {
      "text/html": [
       "<div>\n",
       "<style scoped>\n",
       "    .dataframe tbody tr th:only-of-type {\n",
       "        vertical-align: middle;\n",
       "    }\n",
       "\n",
       "    .dataframe tbody tr th {\n",
       "        vertical-align: top;\n",
       "    }\n",
       "\n",
       "    .dataframe thead th {\n",
       "        text-align: right;\n",
       "    }\n",
       "</style>\n",
       "<table border=\"1\" class=\"dataframe\">\n",
       "  <thead>\n",
       "    <tr style=\"text-align: right;\">\n",
       "      <th></th>\n",
       "      <th>company_id</th>\n",
       "      <th>dsri</th>\n",
       "      <th>gmi</th>\n",
       "      <th>aqi</th>\n",
       "      <th>sgi</th>\n",
       "      <th>depi</th>\n",
       "      <th>sgai</th>\n",
       "      <th>accr</th>\n",
       "      <th>levi</th>\n",
       "      <th>status</th>\n",
       "    </tr>\n",
       "  </thead>\n",
       "  <tbody>\n",
       "    <tr>\n",
       "      <th>780</th>\n",
       "      <td>781</td>\n",
       "      <td>1.106772</td>\n",
       "      <td>1.042221</td>\n",
       "      <td>0.986585</td>\n",
       "      <td>0.976621</td>\n",
       "      <td>0.860691</td>\n",
       "      <td>1.017990</td>\n",
       "      <td>-0.024714</td>\n",
       "      <td>1.027712</td>\n",
       "      <td>0</td>\n",
       "    </tr>\n",
       "    <tr>\n",
       "      <th>1221</th>\n",
       "      <td>1222</td>\n",
       "      <td>1.317955</td>\n",
       "      <td>1.212199</td>\n",
       "      <td>0.831690</td>\n",
       "      <td>1.103667</td>\n",
       "      <td>0.529804</td>\n",
       "      <td>0.981033</td>\n",
       "      <td>0.094074</td>\n",
       "      <td>1.233937</td>\n",
       "      <td>0</td>\n",
       "    </tr>\n",
       "    <tr>\n",
       "      <th>864</th>\n",
       "      <td>865</td>\n",
       "      <td>0.987056</td>\n",
       "      <td>0.990120</td>\n",
       "      <td>0.789278</td>\n",
       "      <td>1.076565</td>\n",
       "      <td>0.901102</td>\n",
       "      <td>0.801138</td>\n",
       "      <td>-0.061825</td>\n",
       "      <td>0.750410</td>\n",
       "      <td>0</td>\n",
       "    </tr>\n",
       "    <tr>\n",
       "      <th>557</th>\n",
       "      <td>558</td>\n",
       "      <td>0.695871</td>\n",
       "      <td>0.978548</td>\n",
       "      <td>1.088167</td>\n",
       "      <td>1.948790</td>\n",
       "      <td>0.900055</td>\n",
       "      <td>0.000000</td>\n",
       "      <td>0.146425</td>\n",
       "      <td>0.837702</td>\n",
       "      <td>0</td>\n",
       "    </tr>\n",
       "    <tr>\n",
       "      <th>513</th>\n",
       "      <td>514</td>\n",
       "      <td>1.175316</td>\n",
       "      <td>0.656361</td>\n",
       "      <td>-2.998387</td>\n",
       "      <td>1.177730</td>\n",
       "      <td>1.066338</td>\n",
       "      <td>0.882568</td>\n",
       "      <td>0.039792</td>\n",
       "      <td>0.987185</td>\n",
       "      <td>0</td>\n",
       "    </tr>\n",
       "    <tr>\n",
       "      <th>839</th>\n",
       "      <td>840</td>\n",
       "      <td>1.270889</td>\n",
       "      <td>3.190908</td>\n",
       "      <td>1.428714</td>\n",
       "      <td>0.589657</td>\n",
       "      <td>1.076399</td>\n",
       "      <td>1.053438</td>\n",
       "      <td>-0.452952</td>\n",
       "      <td>1.275033</td>\n",
       "      <td>0</td>\n",
       "    </tr>\n",
       "    <tr>\n",
       "      <th>135</th>\n",
       "      <td>136</td>\n",
       "      <td>0.974728</td>\n",
       "      <td>0.973973</td>\n",
       "      <td>1.406654</td>\n",
       "      <td>0.946908</td>\n",
       "      <td>0.949789</td>\n",
       "      <td>0.000000</td>\n",
       "      <td>-0.018634</td>\n",
       "      <td>0.972530</td>\n",
       "      <td>0</td>\n",
       "    </tr>\n",
       "    <tr>\n",
       "      <th>204</th>\n",
       "      <td>205</td>\n",
       "      <td>0.866454</td>\n",
       "      <td>0.868075</td>\n",
       "      <td>1.389797</td>\n",
       "      <td>0.827259</td>\n",
       "      <td>1.044388</td>\n",
       "      <td>1.108178</td>\n",
       "      <td>-0.129363</td>\n",
       "      <td>1.151066</td>\n",
       "      <td>0</td>\n",
       "    </tr>\n",
       "    <tr>\n",
       "      <th>332</th>\n",
       "      <td>333</td>\n",
       "      <td>1.314737</td>\n",
       "      <td>0.969082</td>\n",
       "      <td>1.143160</td>\n",
       "      <td>1.015301</td>\n",
       "      <td>0.945115</td>\n",
       "      <td>1.008946</td>\n",
       "      <td>-0.063980</td>\n",
       "      <td>0.952622</td>\n",
       "      <td>0</td>\n",
       "    </tr>\n",
       "    <tr>\n",
       "      <th>419</th>\n",
       "      <td>420</td>\n",
       "      <td>0.957256</td>\n",
       "      <td>0.924780</td>\n",
       "      <td>1.342400</td>\n",
       "      <td>1.174551</td>\n",
       "      <td>1.029274</td>\n",
       "      <td>1.264377</td>\n",
       "      <td>-0.039415</td>\n",
       "      <td>0.973888</td>\n",
       "      <td>0</td>\n",
       "    </tr>\n",
       "  </tbody>\n",
       "</table>\n",
       "</div>"
      ],
      "text/plain": [
       "      company_id      dsri       gmi       aqi       sgi      depi      sgai  \\\n",
       "780          781  1.106772  1.042221  0.986585  0.976621  0.860691  1.017990   \n",
       "1221        1222  1.317955  1.212199  0.831690  1.103667  0.529804  0.981033   \n",
       "864          865  0.987056  0.990120  0.789278  1.076565  0.901102  0.801138   \n",
       "557          558  0.695871  0.978548  1.088167  1.948790  0.900055  0.000000   \n",
       "513          514  1.175316  0.656361 -2.998387  1.177730  1.066338  0.882568   \n",
       "839          840  1.270889  3.190908  1.428714  0.589657  1.076399  1.053438   \n",
       "135          136  0.974728  0.973973  1.406654  0.946908  0.949789  0.000000   \n",
       "204          205  0.866454  0.868075  1.389797  0.827259  1.044388  1.108178   \n",
       "332          333  1.314737  0.969082  1.143160  1.015301  0.945115  1.008946   \n",
       "419          420  0.957256  0.924780  1.342400  1.174551  1.029274  1.264377   \n",
       "\n",
       "          accr      levi  status  \n",
       "780  -0.024714  1.027712       0  \n",
       "1221  0.094074  1.233937       0  \n",
       "864  -0.061825  0.750410       0  \n",
       "557   0.146425  0.837702       0  \n",
       "513   0.039792  0.987185       0  \n",
       "839  -0.452952  1.275033       0  \n",
       "135  -0.018634  0.972530       0  \n",
       "204  -0.129363  1.151066       0  \n",
       "332  -0.063980  0.952622       0  \n",
       "419  -0.039415  0.973888       0  "
      ]
     },
     "execution_count": 6,
     "metadata": {},
     "output_type": "execute_result"
    }
   ],
   "source": [
    "earnings_df.sample(10)"
   ]
  },
  {
   "cell_type": "code",
   "execution_count": 7,
   "id": "b0dd7cac",
   "metadata": {},
   "outputs": [
    {
     "data": {
      "text/plain": [
       "status\n",
       "0    1200\n",
       "1      39\n",
       "Name: count, dtype: int64"
      ]
     },
     "execution_count": 7,
     "metadata": {},
     "output_type": "execute_result"
    }
   ],
   "source": [
    "earnings_df.status.value_counts()"
   ]
  },
  {
   "cell_type": "code",
   "execution_count": 33,
   "id": "3e88f2d2",
   "metadata": {},
   "outputs": [],
   "source": [
    "x_features = list(earnings_df.columns)\n",
    "x_features.remove('company_id')\n",
    "x_features.remove('status')"
   ]
  },
  {
   "cell_type": "code",
   "execution_count": 34,
   "id": "f469e4c0",
   "metadata": {},
   "outputs": [
    {
     "data": {
      "text/plain": [
       "['dsri', 'gmi', 'aqi', 'sgi', 'depi', 'sgai', 'accr', 'levi']"
      ]
     },
     "execution_count": 34,
     "metadata": {},
     "output_type": "execute_result"
    }
   ],
   "source": [
    "x_features"
   ]
  },
  {
   "cell_type": "code",
   "execution_count": 35,
   "id": "55cb79c0",
   "metadata": {},
   "outputs": [
    {
     "data": {
      "text/plain": [
       "(1239, 8)"
      ]
     },
     "execution_count": 35,
     "metadata": {},
     "output_type": "execute_result"
    }
   ],
   "source": [
    "earnings_df[x_features].shape"
   ]
  },
  {
   "cell_type": "code",
   "execution_count": 36,
   "id": "72b5ad52",
   "metadata": {},
   "outputs": [
    {
     "data": {
      "text/plain": [
       "(1239,)"
      ]
     },
     "execution_count": 36,
     "metadata": {},
     "output_type": "execute_result"
    }
   ],
   "source": [
    "earnings_df['status'].shape"
   ]
  },
  {
   "cell_type": "markdown",
   "id": "2ef57607",
   "metadata": {},
   "source": [
    "# Algorithms"
   ]
  },
  {
   "cell_type": "code",
   "execution_count": 16,
   "id": "4580f7f8",
   "metadata": {},
   "outputs": [],
   "source": [
    "# Create a results dataframe to store and later compare results\n",
    "\n",
    "def fit_model(input_data, model_fn, model_args=None, threshold=0.15, labels=None):\n",
    "    return model_fn(input_data, model_args, threshold, labels)\n",
    "\n",
    "def predict_model(input_data, model, predict_fn, threshold=None):\n",
    "    return predict_fn(input_data, model, threshold)"
   ]
  },
  {
   "cell_type": "markdown",
   "id": "9f4588ca",
   "metadata": {},
   "source": [
    "## Isolation Forest"
   ]
  },
  {
   "cell_type": "code",
   "execution_count": 163,
   "id": "87614d2b",
   "metadata": {},
   "outputs": [],
   "source": [
    "def fit_isolation_forest(input_data, args=None, threshold=0.5, labels=None):\n",
    "    model = IsolationForest(n_estimators = 200, \n",
    "                            contamination=threshold, \n",
    "                            random_state=100)\n",
    "    \n",
    "    model.fit(input_data)\n",
    "\n",
    "    return model\n",
    "\n",
    "def predict_isolation_forest(input_data, model, threshold=None):\n",
    "    y_pred = model.predict(input_data)\n",
    "    y_pred = [1 if pred == -1 else 0 for pred in y_pred]\n",
    "\n",
    "    return y_pred"
   ]
  },
  {
   "cell_type": "code",
   "execution_count": 164,
   "id": "a0771bd4",
   "metadata": {},
   "outputs": [],
   "source": [
    "if_model = fit_model(earnings_df[x_features], fit_isolation_forest) "
   ]
  },
  {
   "cell_type": "code",
   "execution_count": 165,
   "id": "ccd9cf4a",
   "metadata": {},
   "outputs": [],
   "source": [
    "scores = if_model.decision_function(earnings_df[x_features])"
   ]
  },
  {
   "cell_type": "code",
   "execution_count": 166,
   "id": "84077820",
   "metadata": {},
   "outputs": [
    {
     "data": {
      "text/plain": [
       "array([-0.05268533, -0.25093424,  0.04205907, ...,  0.03213279,\n",
       "        0.07097401,  0.05717345])"
      ]
     },
     "execution_count": 166,
     "metadata": {},
     "output_type": "execute_result"
    }
   ],
   "source": [
    "scores"
   ]
  },
  {
   "cell_type": "code",
   "execution_count": 167,
   "id": "b3c4150e",
   "metadata": {},
   "outputs": [
    {
     "data": {
      "image/png": "[encoded data removed]",
      "text/plain": [
       "<Figure size 500x500 with 1 Axes>"
      ]
     },
     "metadata": {},
     "output_type": "display_data"
    }
   ],
   "source": [
    "sn.displot(scores);"
   ]
  },
  {
   "cell_type": "code",
   "execution_count": 168,
   "id": "02d53706",
   "metadata": {},
   "outputs": [],
   "source": [
    "y_pred_test = predict_model(earnings_df[x_features], \n",
    "                            if_model, \n",
    "                            predict_isolation_forest)"
   ]
  },
  {
   "cell_type": "code",
   "execution_count": 169,
   "id": "aec7be9c",
   "metadata": {},
   "outputs": [
    {
     "data": {
      "image/png": "[encoded data removed]",
      "text/plain": [
       "<Figure size 640x480 with 2 Axes>"
      ]
     },
     "metadata": {},
     "output_type": "display_data"
    }
   ],
   "source": [
    "cm = confusion_matrix(earnings_df['status'],\n",
    "                      y_pred_test, \n",
    "                      labels = [1, 0])\n",
    "cm_plot = ConfusionMatrixDisplay(cm, display_labels=['Manipulated', 'Not Manipulated'])\n",
    "cm_plot.plot();"
   ]
  },
  {
   "cell_type": "code",
   "execution_count": 170,
   "id": "22526f90",
   "metadata": {},
   "outputs": [
    {
     "name": "stdout",
     "output_type": "stream",
     "text": [
      "Classification Report:\n",
      "               precision    recall  f1-score   support\n",
      "\n",
      "           0       0.99      0.87      0.92      1200\n",
      "           1       0.13      0.64      0.22        39\n",
      "\n",
      "    accuracy                           0.86      1239\n",
      "   macro avg       0.56      0.75      0.57      1239\n",
      "weighted avg       0.96      0.86      0.90      1239\n",
      "\n"
     ]
    }
   ],
   "source": [
    "print(\"Classification Report:\\n\", \n",
    "      classification_report(earnings_df['status'],\n",
    "                            y_pred_test))"
   ]
  },
  {
   "cell_type": "markdown",
   "id": "5ab4fb59",
   "metadata": {},
   "source": [
    "## Adjusting Contamination Values"
   ]
  },
  {
   "cell_type": "code",
   "execution_count": 171,
   "id": "25af9684",
   "metadata": {},
   "outputs": [],
   "source": [
    "threshold_vals = list(np.arange(0.05, \n",
    "                                0.20, \n",
    "                                0.01))"
   ]
  },
  {
   "cell_type": "code",
   "execution_count": 172,
   "id": "883da194",
   "metadata": {},
   "outputs": [],
   "source": [
    "from sklearn.metrics import recall_score"
   ]
  },
  {
   "cell_type": "code",
   "execution_count": 173,
   "id": "433a2e53",
   "metadata": {},
   "outputs": [],
   "source": [
    "threshold_recall = []\n",
    "\n",
    "for threshold in threshold_vals:\n",
    "    if_model = fit_model(earnings_df[x_features], \n",
    "                         fit_isolation_forest, \n",
    "                         threshold = threshold)\n",
    "    \n",
    "    y_pred_test = predict_model(earnings_df[x_features], \n",
    "                                if_model, \n",
    "                                predict_isolation_forest)    \n",
    "    threshold_recall.append([np.round(threshold, 3), \n",
    "                             np.round(recall_score(earnings_df['status'], \n",
    "                                                   y_pred_test), 2)])"
   ]
  },
  {
   "cell_type": "code",
   "execution_count": 174,
   "id": "8314255b",
   "metadata": {},
   "outputs": [],
   "source": [
    "threshold_recall_df = pd.DataFrame(threshold_recall, \n",
    "                                   columns = ['threshold', 'recall'])"
   ]
  },
  {
   "cell_type": "code",
   "execution_count": 175,
   "id": "17cc44cf",
   "metadata": {},
   "outputs": [
    {
     "data": {
      "text/html": [
       "<div>\n",
       "<style scoped>\n",
       "    .dataframe tbody tr th:only-of-type {\n",
       "        vertical-align: middle;\n",
       "    }\n",
       "\n",
       "    .dataframe tbody tr th {\n",
       "        vertical-align: top;\n",
       "    }\n",
       "\n",
       "    .dataframe thead th {\n",
       "        text-align: right;\n",
       "    }\n",
       "</style>\n",
       "<table border=\"1\" class=\"dataframe\">\n",
       "  <thead>\n",
       "    <tr style=\"text-align: right;\">\n",
       "      <th></th>\n",
       "      <th>threshold</th>\n",
       "      <th>recall</th>\n",
       "    </tr>\n",
       "  </thead>\n",
       "  <tbody>\n",
       "    <tr>\n",
       "      <th>14</th>\n",
       "      <td>0.19</td>\n",
       "      <td>0.72</td>\n",
       "    </tr>\n",
       "    <tr>\n",
       "      <th>15</th>\n",
       "      <td>0.20</td>\n",
       "      <td>0.72</td>\n",
       "    </tr>\n",
       "    <tr>\n",
       "      <th>12</th>\n",
       "      <td>0.17</td>\n",
       "      <td>0.69</td>\n",
       "    </tr>\n",
       "    <tr>\n",
       "      <th>13</th>\n",
       "      <td>0.18</td>\n",
       "      <td>0.69</td>\n",
       "    </tr>\n",
       "    <tr>\n",
       "      <th>9</th>\n",
       "      <td>0.14</td>\n",
       "      <td>0.64</td>\n",
       "    </tr>\n",
       "    <tr>\n",
       "      <th>10</th>\n",
       "      <td>0.15</td>\n",
       "      <td>0.64</td>\n",
       "    </tr>\n",
       "    <tr>\n",
       "      <th>11</th>\n",
       "      <td>0.16</td>\n",
       "      <td>0.64</td>\n",
       "    </tr>\n",
       "    <tr>\n",
       "      <th>5</th>\n",
       "      <td>0.10</td>\n",
       "      <td>0.62</td>\n",
       "    </tr>\n",
       "    <tr>\n",
       "      <th>6</th>\n",
       "      <td>0.11</td>\n",
       "      <td>0.62</td>\n",
       "    </tr>\n",
       "    <tr>\n",
       "      <th>7</th>\n",
       "      <td>0.12</td>\n",
       "      <td>0.62</td>\n",
       "    </tr>\n",
       "    <tr>\n",
       "      <th>8</th>\n",
       "      <td>0.13</td>\n",
       "      <td>0.62</td>\n",
       "    </tr>\n",
       "    <tr>\n",
       "      <th>3</th>\n",
       "      <td>0.08</td>\n",
       "      <td>0.59</td>\n",
       "    </tr>\n",
       "    <tr>\n",
       "      <th>4</th>\n",
       "      <td>0.09</td>\n",
       "      <td>0.59</td>\n",
       "    </tr>\n",
       "    <tr>\n",
       "      <th>2</th>\n",
       "      <td>0.07</td>\n",
       "      <td>0.49</td>\n",
       "    </tr>\n",
       "    <tr>\n",
       "      <th>1</th>\n",
       "      <td>0.06</td>\n",
       "      <td>0.44</td>\n",
       "    </tr>\n",
       "    <tr>\n",
       "      <th>0</th>\n",
       "      <td>0.05</td>\n",
       "      <td>0.41</td>\n",
       "    </tr>\n",
       "  </tbody>\n",
       "</table>\n",
       "</div>"
      ],
      "text/plain": [
       "    threshold  recall\n",
       "14       0.19    0.72\n",
       "15       0.20    0.72\n",
       "12       0.17    0.69\n",
       "13       0.18    0.69\n",
       "9        0.14    0.64\n",
       "10       0.15    0.64\n",
       "11       0.16    0.64\n",
       "5        0.10    0.62\n",
       "6        0.11    0.62\n",
       "7        0.12    0.62\n",
       "8        0.13    0.62\n",
       "3        0.08    0.59\n",
       "4        0.09    0.59\n",
       "2        0.07    0.49\n",
       "1        0.06    0.44\n",
       "0        0.05    0.41"
      ]
     },
     "execution_count": 175,
     "metadata": {},
     "output_type": "execute_result"
    }
   ],
   "source": [
    "threshold_recall_df.sort_values(\"recall\", ascending = False)"
   ]
  },
  {
   "cell_type": "code",
   "execution_count": 176,
   "id": "9bb4cc18",
   "metadata": {},
   "outputs": [],
   "source": [
    "if_model = fit_model(earnings_df[x_features],\n",
    "                     fit_isolation_forest, \n",
    "                     threshold = 0.20) \n",
    "\n",
    "y_pred_test = predict_model(earnings_df[x_features], \n",
    "                            if_model, \n",
    "                            predict_isolation_forest)"
   ]
  },
  {
   "cell_type": "code",
   "execution_count": 177,
   "id": "f068d661",
   "metadata": {},
   "outputs": [
    {
     "data": {
      "image/png": "[encoded data removed]",
      "text/plain": [
       "<Figure size 640x480 with 2 Axes>"
      ]
     },
     "metadata": {},
     "output_type": "display_data"
    }
   ],
   "source": [
    "cm = confusion_matrix(earnings_df['status'],\n",
    "                      y_pred_test, labels = [1, 0])\n",
    "cm_plot = ConfusionMatrixDisplay(cm, \n",
    "                                 display_labels=['Manipulated', 'Not Manipulated'])\n",
    "cm_plot.plot();"
   ]
  },
  {
   "cell_type": "markdown",
   "id": "a40d0fd1",
   "metadata": {},
   "source": [
    "## Using pyod library"
   ]
  },
  {
   "cell_type": "code",
   "execution_count": 178,
   "id": "252b20dc",
   "metadata": {},
   "outputs": [],
   "source": [
    "#!pip install pyod"
   ]
  },
  {
   "cell_type": "code",
   "execution_count": 179,
   "id": "18969ae9",
   "metadata": {},
   "outputs": [],
   "source": [
    "from pyod.models.iforest import IForest"
   ]
  },
  {
   "cell_type": "code",
   "execution_count": 187,
   "id": "d71e01fc",
   "metadata": {},
   "outputs": [],
   "source": [
    "iforest = IForest(n_estimators = 200,\n",
    "                  max_features = 1.0,\n",
    "                  contamination = 0.2)"
   ]
  },
  {
   "cell_type": "code",
   "execution_count": 188,
   "id": "c2e6fe8d",
   "metadata": {},
   "outputs": [
    {
     "data": {
      "text/plain": [
       "IForest(behaviour='old', bootstrap=False, contamination=0.2, max_features=1.0,\n",
       "    max_samples='auto', n_estimators=200, n_jobs=1, random_state=None,\n",
       "    verbose=0)"
      ]
     },
     "execution_count": 188,
     "metadata": {},
     "output_type": "execute_result"
    }
   ],
   "source": [
    "iforest.fit(earnings_df[x_features])"
   ]
  },
  {
   "cell_type": "code",
   "execution_count": 189,
   "id": "e73a145a",
   "metadata": {},
   "outputs": [
    {
     "data": {
      "text/plain": [
       "array([1, 1, 0, ..., 0, 0, 0])"
      ]
     },
     "execution_count": 189,
     "metadata": {},
     "output_type": "execute_result"
    }
   ],
   "source": [
    "iforest.labels_"
   ]
  },
  {
   "cell_type": "code",
   "execution_count": 190,
   "id": "a293b0d3",
   "metadata": {},
   "outputs": [],
   "source": [
    "iforest_scores = iforest.decision_function(earnings_df[x_features])"
   ]
  },
  {
   "cell_type": "code",
   "execution_count": 191,
   "id": "eeafe662",
   "metadata": {},
   "outputs": [
    {
     "data": {
      "text/plain": [
       "array([ 0.07616491,  0.23837383, -0.03104715, ..., -0.01628856,\n",
       "       -0.05313968, -0.04346964])"
      ]
     },
     "execution_count": 191,
     "metadata": {},
     "output_type": "execute_result"
    }
   ],
   "source": [
    "iforest_scores"
   ]
  },
  {
   "cell_type": "code",
   "execution_count": 192,
   "id": "9f4f42b8",
   "metadata": {},
   "outputs": [
    {
     "data": {
      "image/png": "[encoded data removed]",
      "text/plain": [
       "<Figure size 500x500 with 1 Axes>"
      ]
     },
     "metadata": {},
     "output_type": "display_data"
    }
   ],
   "source": [
    "sn.displot(iforest_scores);"
   ]
  },
  {
   "cell_type": "code",
   "execution_count": 193,
   "id": "4008dc07",
   "metadata": {},
   "outputs": [
    {
     "data": {
      "image/png": "[encoded data removed]",
      "text/plain": [
       "<Figure size 640x480 with 2 Axes>"
      ]
     },
     "metadata": {},
     "output_type": "display_data"
    }
   ],
   "source": [
    "cm = confusion_matrix(earnings_df['status'],\n",
    "                      iforest.labels_, \n",
    "                      labels = [1, 0])\n",
    "cm_plot = ConfusionMatrixDisplay(cm, \n",
    "                                 display_labels=['Manipulated', 'Not Manipulated'])\n",
    "cm_plot.plot();"
   ]
  },
  {
   "cell_type": "code",
   "execution_count": null,
   "id": "e2289705",
   "metadata": {},
   "outputs": [],
   "source": []
  },
  {
   "cell_type": "code",
   "execution_count": null,
   "id": "afc0b8d9",
   "metadata": {},
   "outputs": [],
   "source": []
  }
 ],
 "metadata": {
  "kernelspec": {
   "display_name": "Python 3 (ipykernel)",
   "language": "python",
   "name": "python3"
  },
  "language_info": {
   "codemirror_mode": {
    "name": "ipython",
    "version": 3
   },
   "file_extension": ".py",
   "mimetype": "text/x-python",
   "name": "python",
   "nbconvert_exporter": "python",
   "pygments_lexer": "ipython3",
   "version": "3.10.9"
  }
 },
 "nbformat": 4,
 "nbformat_minor": 5
}
