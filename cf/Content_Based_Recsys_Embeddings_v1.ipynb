{
 "cells": [
  {
   "cell_type": "code",
   "execution_count": 2,
   "id": "391f4a72",
   "metadata": {},
   "outputs": [],
   "source": [
    "import warnings\n",
    "warnings.filterwarnings('ignore')"
   ]
  },
  {
   "cell_type": "code",
   "execution_count": 3,
   "id": "40fb2178",
   "metadata": {},
   "outputs": [],
   "source": [
    "import pandas as pd\n",
    "import numpy as np\n",
    "import ast"
   ]
  },
  {
   "cell_type": "code",
   "execution_count": 4,
   "id": "ebb32e27",
   "metadata": {},
   "outputs": [],
   "source": [
    "books_df = pd.read_csv('./books_summary.csv.zip', index_col=[0])"
   ]
  },
  {
   "cell_type": "code",
   "execution_count": 5,
   "id": "40b5fd36",
   "metadata": {},
   "outputs": [
    {
     "data": {
      "text/html": [
       "<div>\n",
       "<style scoped>\n",
       "    .dataframe tbody tr th:only-of-type {\n",
       "        vertical-align: middle;\n",
       "    }\n",
       "\n",
       "    .dataframe tbody tr th {\n",
       "        vertical-align: top;\n",
       "    }\n",
       "\n",
       "    .dataframe thead th {\n",
       "        text-align: right;\n",
       "    }\n",
       "</style>\n",
       "<table border=\"1\" class=\"dataframe\">\n",
       "  <thead>\n",
       "    <tr style=\"text-align: right;\">\n",
       "      <th></th>\n",
       "      <th>book_name</th>\n",
       "      <th>summaries</th>\n",
       "      <th>categories</th>\n",
       "    </tr>\n",
       "  </thead>\n",
       "  <tbody>\n",
       "    <tr>\n",
       "      <th>0</th>\n",
       "      <td>The Highly Sensitive Person</td>\n",
       "      <td>is a self-assessment guide and how-to-live te...</td>\n",
       "      <td>science</td>\n",
       "    </tr>\n",
       "    <tr>\n",
       "      <th>1</th>\n",
       "      <td>Why Has Nobody Told Me This Before?</td>\n",
       "      <td>is a collection of a clinical psychologist’s ...</td>\n",
       "      <td>science</td>\n",
       "    </tr>\n",
       "    <tr>\n",
       "      <th>2</th>\n",
       "      <td>The Midnight Library</td>\n",
       "      <td>tells the story of Nora, a depressed woman in...</td>\n",
       "      <td>science</td>\n",
       "    </tr>\n",
       "    <tr>\n",
       "      <th>3</th>\n",
       "      <td>Brave New World</td>\n",
       "      <td>presents a futuristic society engineered perf...</td>\n",
       "      <td>science</td>\n",
       "    </tr>\n",
       "    <tr>\n",
       "      <th>4</th>\n",
       "      <td>1984</td>\n",
       "      <td>is the story of a man questioning the system ...</td>\n",
       "      <td>science</td>\n",
       "    </tr>\n",
       "    <tr>\n",
       "      <th>5</th>\n",
       "      <td>Stolen Focus</td>\n",
       "      <td>explains why our attention spans have been dw...</td>\n",
       "      <td>science</td>\n",
       "    </tr>\n",
       "    <tr>\n",
       "      <th>6</th>\n",
       "      <td>The Life-Changing Science of Detecting Bullshit</td>\n",
       "      <td>teaches its readers how to avoid falling for ...</td>\n",
       "      <td>science</td>\n",
       "    </tr>\n",
       "    <tr>\n",
       "      <th>7</th>\n",
       "      <td>Dopamine Nation</td>\n",
       "      <td>talks about the importance of living a balance...</td>\n",
       "      <td>science</td>\n",
       "    </tr>\n",
       "    <tr>\n",
       "      <th>8</th>\n",
       "      <td>The Art of Statistics</td>\n",
       "      <td>is a non-technical book that shows how statis...</td>\n",
       "      <td>science</td>\n",
       "    </tr>\n",
       "    <tr>\n",
       "      <th>9</th>\n",
       "      <td>No Self No Problem</td>\n",
       "      <td>is a provocative read about the implications ...</td>\n",
       "      <td>science</td>\n",
       "    </tr>\n",
       "  </tbody>\n",
       "</table>\n",
       "</div>"
      ],
      "text/plain": [
       "                                         book_name  \\\n",
       "0                      The Highly Sensitive Person   \n",
       "1              Why Has Nobody Told Me This Before?   \n",
       "2                             The Midnight Library   \n",
       "3                                  Brave New World   \n",
       "4                                             1984   \n",
       "5                                     Stolen Focus   \n",
       "6  The Life-Changing Science of Detecting Bullshit   \n",
       "7                                  Dopamine Nation   \n",
       "8                            The Art of Statistics   \n",
       "9                               No Self No Problem   \n",
       "\n",
       "                                           summaries categories  \n",
       "0   is a self-assessment guide and how-to-live te...    science  \n",
       "1   is a collection of a clinical psychologist’s ...    science  \n",
       "2   tells the story of Nora, a depressed woman in...    science  \n",
       "3   presents a futuristic society engineered perf...    science  \n",
       "4   is the story of a man questioning the system ...    science  \n",
       "5   explains why our attention spans have been dw...    science  \n",
       "6   teaches its readers how to avoid falling for ...    science  \n",
       "7  talks about the importance of living a balance...    science  \n",
       "8   is a non-technical book that shows how statis...    science  \n",
       "9   is a provocative read about the implications ...    science  "
      ]
     },
     "execution_count": 5,
     "metadata": {},
     "output_type": "execute_result"
    }
   ],
   "source": [
    "books_df.head(10)"
   ]
  },
  {
   "cell_type": "code",
   "execution_count": 6,
   "id": "50826eca",
   "metadata": {},
   "outputs": [
    {
     "name": "stdout",
     "output_type": "stream",
     "text": [
      "<class 'pandas.core.frame.DataFrame'>\n",
      "Index: 5201 entries, 0 to 5244\n",
      "Data columns (total 3 columns):\n",
      " #   Column      Non-Null Count  Dtype \n",
      "---  ------      --------------  ----- \n",
      " 0   book_name   5201 non-null   object\n",
      " 1   summaries   5194 non-null   object\n",
      " 2   categories  5201 non-null   object\n",
      "dtypes: object(3)\n",
      "memory usage: 162.5+ KB\n"
     ]
    }
   ],
   "source": [
    "books_df.info()"
   ]
  },
  {
   "cell_type": "code",
   "execution_count": 7,
   "id": "b3b08fb0",
   "metadata": {},
   "outputs": [
    {
     "data": {
      "text/plain": [
       "(5201, 3)"
      ]
     },
     "execution_count": 7,
     "metadata": {},
     "output_type": "execute_result"
    }
   ],
   "source": [
    "books_df.shape"
   ]
  },
  {
   "cell_type": "code",
   "execution_count": 8,
   "id": "88325c92",
   "metadata": {},
   "outputs": [
    {
     "data": {
      "text/plain": [
       "categories\n",
       "psychology       595\n",
       "productivity     485\n",
       "motivation       434\n",
       "happiness        424\n",
       "work             372\n",
       "business         363\n",
       "mindfulness      322\n",
       "relationships    275\n",
       "communication    236\n",
       "science          209\n",
       "creativity       195\n",
       "management       187\n",
       "health           187\n",
       "money            157\n",
       "politics         127\n",
       "marketing        125\n",
       "education        118\n",
       "technology       107\n",
       "biography         89\n",
       "economics         77\n",
       "environment       58\n",
       "religion          39\n",
       "fiction           20\n",
       "Name: count, dtype: int64"
      ]
     },
     "execution_count": 8,
     "metadata": {},
     "output_type": "execute_result"
    }
   ],
   "source": [
    "books_df.categories.value_counts()"
   ]
  },
  {
   "cell_type": "code",
   "execution_count": 9,
   "id": "e0615fa8",
   "metadata": {},
   "outputs": [],
   "source": [
    "books_df.dropna(subset=['summaries'], inplace=True)"
   ]
  },
  {
   "cell_type": "code",
   "execution_count": 10,
   "id": "1e01aa47",
   "metadata": {},
   "outputs": [],
   "source": [
    "books_df.drop_duplicates(subset=['summaries'], inplace=True)"
   ]
  },
  {
   "cell_type": "code",
   "execution_count": 11,
   "id": "9eba6efb",
   "metadata": {},
   "outputs": [],
   "source": [
    "books_df = books_df.reset_index(drop=True)"
   ]
  },
  {
   "cell_type": "code",
   "execution_count": 12,
   "id": "f117d542",
   "metadata": {},
   "outputs": [
    {
     "data": {
      "text/html": [
       "<div>\n",
       "<style scoped>\n",
       "    .dataframe tbody tr th:only-of-type {\n",
       "        vertical-align: middle;\n",
       "    }\n",
       "\n",
       "    .dataframe tbody tr th {\n",
       "        vertical-align: top;\n",
       "    }\n",
       "\n",
       "    .dataframe thead th {\n",
       "        text-align: right;\n",
       "    }\n",
       "</style>\n",
       "<table border=\"1\" class=\"dataframe\">\n",
       "  <thead>\n",
       "    <tr style=\"text-align: right;\">\n",
       "      <th></th>\n",
       "      <th>book_name</th>\n",
       "      <th>summaries</th>\n",
       "      <th>categories</th>\n",
       "    </tr>\n",
       "  </thead>\n",
       "  <tbody>\n",
       "    <tr>\n",
       "      <th>0</th>\n",
       "      <td>The Highly Sensitive Person</td>\n",
       "      <td>is a self-assessment guide and how-to-live te...</td>\n",
       "      <td>science</td>\n",
       "    </tr>\n",
       "    <tr>\n",
       "      <th>1</th>\n",
       "      <td>Why Has Nobody Told Me This Before?</td>\n",
       "      <td>is a collection of a clinical psychologist’s ...</td>\n",
       "      <td>science</td>\n",
       "    </tr>\n",
       "    <tr>\n",
       "      <th>2</th>\n",
       "      <td>The Midnight Library</td>\n",
       "      <td>tells the story of Nora, a depressed woman in...</td>\n",
       "      <td>science</td>\n",
       "    </tr>\n",
       "    <tr>\n",
       "      <th>3</th>\n",
       "      <td>Brave New World</td>\n",
       "      <td>presents a futuristic society engineered perf...</td>\n",
       "      <td>science</td>\n",
       "    </tr>\n",
       "    <tr>\n",
       "      <th>4</th>\n",
       "      <td>1984</td>\n",
       "      <td>is the story of a man questioning the system ...</td>\n",
       "      <td>science</td>\n",
       "    </tr>\n",
       "    <tr>\n",
       "      <th>...</th>\n",
       "      <td>...</td>\n",
       "      <td>...</td>\n",
       "      <td>...</td>\n",
       "    </tr>\n",
       "    <tr>\n",
       "      <th>1222</th>\n",
       "      <td>Better Than Before</td>\n",
       "      <td>breaks down the latest research on how to bre...</td>\n",
       "      <td>work</td>\n",
       "    </tr>\n",
       "    <tr>\n",
       "      <th>1223</th>\n",
       "      <td>The Happiness Hypothesis</td>\n",
       "      <td>is the most thorough analysis of how you can ...</td>\n",
       "      <td>work</td>\n",
       "    </tr>\n",
       "    <tr>\n",
       "      <th>1224</th>\n",
       "      <td>Rich Dad Poor Dad</td>\n",
       "      <td>tells the story of a boy with two fathers, on...</td>\n",
       "      <td>work</td>\n",
       "    </tr>\n",
       "    <tr>\n",
       "      <th>1225</th>\n",
       "      <td>The Ruthless Elimination Of Hurry</td>\n",
       "      <td>will teach you how to slow down, relax, and l...</td>\n",
       "      <td>mindfulness</td>\n",
       "    </tr>\n",
       "    <tr>\n",
       "      <th>1226</th>\n",
       "      <td>The Book</td>\n",
       "      <td>is a spiritual exploration of true human natur...</td>\n",
       "      <td>mindfulness</td>\n",
       "    </tr>\n",
       "  </tbody>\n",
       "</table>\n",
       "<p>1227 rows × 3 columns</p>\n",
       "</div>"
      ],
      "text/plain": [
       "                                book_name  \\\n",
       "0             The Highly Sensitive Person   \n",
       "1     Why Has Nobody Told Me This Before?   \n",
       "2                    The Midnight Library   \n",
       "3                         Brave New World   \n",
       "4                                    1984   \n",
       "...                                   ...   \n",
       "1222                   Better Than Before   \n",
       "1223             The Happiness Hypothesis   \n",
       "1224                    Rich Dad Poor Dad   \n",
       "1225    The Ruthless Elimination Of Hurry   \n",
       "1226                            The Book    \n",
       "\n",
       "                                              summaries   categories  \n",
       "0      is a self-assessment guide and how-to-live te...      science  \n",
       "1      is a collection of a clinical psychologist’s ...      science  \n",
       "2      tells the story of Nora, a depressed woman in...      science  \n",
       "3      presents a futuristic society engineered perf...      science  \n",
       "4      is the story of a man questioning the system ...      science  \n",
       "...                                                 ...          ...  \n",
       "1222   breaks down the latest research on how to bre...         work  \n",
       "1223   is the most thorough analysis of how you can ...         work  \n",
       "1224   tells the story of a boy with two fathers, on...         work  \n",
       "1225   will teach you how to slow down, relax, and l...  mindfulness  \n",
       "1226  is a spiritual exploration of true human natur...  mindfulness  \n",
       "\n",
       "[1227 rows x 3 columns]"
      ]
     },
     "execution_count": 12,
     "metadata": {},
     "output_type": "execute_result"
    }
   ],
   "source": [
    "books_df"
   ]
  },
  {
   "cell_type": "code",
   "execution_count": 13,
   "id": "ed963f27",
   "metadata": {},
   "outputs": [],
   "source": [
    "from sklearn.metrics.pairwise import cosine_similarity\n",
    "from sklearn.metrics.pairwise import cosine_similarity\n",
    "from transformers import AutoTokenizer, AutoModel\n",
    "import torch"
   ]
  },
  {
   "cell_type": "code",
   "execution_count": 14,
   "id": "66e9fa85",
   "metadata": {},
   "outputs": [
    {
     "data": {
      "application/vnd.jupyter.widget-view+json": {
       "model_id": "a5a25cd944e24e168afeb3cb8dc4f327",
       "version_major": 2,
       "version_minor": 0
      },
      "text/plain": [
       "Downloading:   0%|          | 0.00/366 [00:00<?, ?B/s]"
      ]
     },
     "metadata": {},
     "output_type": "display_data"
    },
    {
     "data": {
      "application/vnd.jupyter.widget-view+json": {
       "model_id": "42b9d3a5d7f74812824f946e33e3e6ef",
       "version_major": 2,
       "version_minor": 0
      },
      "text/plain": [
       "Downloading:   0%|          | 0.00/232k [00:00<?, ?B/s]"
      ]
     },
     "metadata": {},
     "output_type": "display_data"
    },
    {
     "data": {
      "application/vnd.jupyter.widget-view+json": {
       "model_id": "1680b25fb3d041eebdf4db67efbea81f",
       "version_major": 2,
       "version_minor": 0
      },
      "text/plain": [
       "Downloading:   0%|          | 0.00/711k [00:00<?, ?B/s]"
      ]
     },
     "metadata": {},
     "output_type": "display_data"
    },
    {
     "data": {
      "application/vnd.jupyter.widget-view+json": {
       "model_id": "ef1e0675e91b476183c86a1a72f2e0df",
       "version_major": 2,
       "version_minor": 0
      },
      "text/plain": [
       "Downloading:   0%|          | 0.00/125 [00:00<?, ?B/s]"
      ]
     },
     "metadata": {},
     "output_type": "display_data"
    },
    {
     "data": {
      "application/vnd.jupyter.widget-view+json": {
       "model_id": "df08df3ecfd443a6b14c62f41a3a8f23",
       "version_major": 2,
       "version_minor": 0
      },
      "text/plain": [
       "Downloading:   0%|          | 0.00/684 [00:00<?, ?B/s]"
      ]
     },
     "metadata": {},
     "output_type": "display_data"
    },
    {
     "data": {
      "application/vnd.jupyter.widget-view+json": {
       "model_id": "7c0d5beb46f746838b86aea4a6ad5b5a",
       "version_major": 2,
       "version_minor": 0
      },
      "text/plain": [
       "Downloading:   0%|          | 0.00/134M [00:00<?, ?B/s]"
      ]
     },
     "metadata": {},
     "output_type": "display_data"
    }
   ],
   "source": [
    "# Step 1: Generate embeddings using BAAI/bge-small-en model from HuggingFace\n",
    "tokenizer = AutoTokenizer.from_pretrained(\"BAAI/bge-small-en\")\n",
    "model = AutoModel.from_pretrained(\"BAAI/bge-small-en\")"
   ]
  },
  {
   "cell_type": "code",
   "execution_count": 15,
   "id": "7556b5dc",
   "metadata": {},
   "outputs": [],
   "source": [
    "# Function to generate embeddings\n",
    "def get_embeddings(text):\n",
    "    inputs = tokenizer(text, return_tensors=\"pt\", truncation=True, padding=True)\n",
    "    with torch.no_grad():\n",
    "        embeddings = model(**inputs)\n",
    "    return embeddings.last_hidden_state.mean(dim=1).squeeze().numpy()\n",
    "\n",
    "# Generate embeddings for each summary\n",
    "books_df['embedding'] = books_df['summaries'].apply(get_embeddings)"
   ]
  },
  {
   "cell_type": "code",
   "execution_count": 17,
   "id": "353b4d09",
   "metadata": {},
   "outputs": [
    {
     "data": {
      "text/html": [
       "<div>\n",
       "<style scoped>\n",
       "    .dataframe tbody tr th:only-of-type {\n",
       "        vertical-align: middle;\n",
       "    }\n",
       "\n",
       "    .dataframe tbody tr th {\n",
       "        vertical-align: top;\n",
       "    }\n",
       "\n",
       "    .dataframe thead th {\n",
       "        text-align: right;\n",
       "    }\n",
       "</style>\n",
       "<table border=\"1\" class=\"dataframe\">\n",
       "  <thead>\n",
       "    <tr style=\"text-align: right;\">\n",
       "      <th></th>\n",
       "      <th>book_name</th>\n",
       "      <th>summaries</th>\n",
       "      <th>categories</th>\n",
       "      <th>embedding</th>\n",
       "    </tr>\n",
       "  </thead>\n",
       "  <tbody>\n",
       "    <tr>\n",
       "      <th>1144</th>\n",
       "      <td>One Simple Idea</td>\n",
       "      <td>shows you how to turn your ideas into license...</td>\n",
       "      <td>marketing</td>\n",
       "      <td>[-0.1661913, -0.047558907, -0.057511996, -0.70...</td>\n",
       "    </tr>\n",
       "    <tr>\n",
       "      <th>407</th>\n",
       "      <td>Good Vibes, Good Life</td>\n",
       "      <td>explores ways to unlock your true potential b...</td>\n",
       "      <td>relationships</td>\n",
       "      <td>[-0.31454104, -0.032631405, 0.5389788, -0.0352...</td>\n",
       "    </tr>\n",
       "    <tr>\n",
       "      <th>1039</th>\n",
       "      <td>Jab, Jab, Jab, Right Hook</td>\n",
       "      <td>is a message to everyone who’s not on the soc...</td>\n",
       "      <td>productivity</td>\n",
       "      <td>[0.0068836473, -0.017536815, -0.011931073, -0....</td>\n",
       "    </tr>\n",
       "    <tr>\n",
       "      <th>427</th>\n",
       "      <td>The Art of Rhetoric</td>\n",
       "      <td>is an ancient, time-proven reference book tha...</td>\n",
       "      <td>relationships</td>\n",
       "      <td>[-0.3225811, 0.46354115, 0.15573183, -0.121496...</td>\n",
       "    </tr>\n",
       "    <tr>\n",
       "      <th>125</th>\n",
       "      <td>Against Empathy</td>\n",
       "      <td>explains the problems with society’s obsessio...</td>\n",
       "      <td>science</td>\n",
       "      <td>[-0.24232997, -0.07629199, 0.3003001, -0.20524...</td>\n",
       "    </tr>\n",
       "    <tr>\n",
       "      <th>1168</th>\n",
       "      <td>The Rebel Rules</td>\n",
       "      <td>shows you how you can run a business by being...</td>\n",
       "      <td>management</td>\n",
       "      <td>[-0.1415425, -0.18809648, -0.047290917, -0.482...</td>\n",
       "    </tr>\n",
       "    <tr>\n",
       "      <th>1001</th>\n",
       "      <td>A Curious Mind</td>\n",
       "      <td>is an homage to the power of asking questions...</td>\n",
       "      <td>productivity</td>\n",
       "      <td>[-0.1691366, 0.451072, 0.13538055, -0.16832036...</td>\n",
       "    </tr>\n",
       "    <tr>\n",
       "      <th>622</th>\n",
       "      <td>Four Thousand Weeks</td>\n",
       "      <td>explores the popularized concept of time mana...</td>\n",
       "      <td>happiness</td>\n",
       "      <td>[-0.32544625, 0.70163804, 0.48712817, -0.25244...</td>\n",
       "    </tr>\n",
       "    <tr>\n",
       "      <th>93</th>\n",
       "      <td>Brief Answers To The Big Questions</td>\n",
       "      <td>tackles some of the universe’s biggest myster...</td>\n",
       "      <td>science</td>\n",
       "      <td>[-0.31145382, -0.121578135, -0.124654435, -0.1...</td>\n",
       "    </tr>\n",
       "    <tr>\n",
       "      <th>398</th>\n",
       "      <td>A Walk In The Woods</td>\n",
       "      <td>tells the interesting story of the adventures...</td>\n",
       "      <td>environment</td>\n",
       "      <td>[-0.41684574, 0.0908739, 0.6247539, 0.34636876...</td>\n",
       "    </tr>\n",
       "  </tbody>\n",
       "</table>\n",
       "</div>"
      ],
      "text/plain": [
       "                               book_name  \\\n",
       "1144                     One Simple Idea   \n",
       "407                Good Vibes, Good Life   \n",
       "1039           Jab, Jab, Jab, Right Hook   \n",
       "427                  The Art of Rhetoric   \n",
       "125                      Against Empathy   \n",
       "1168                     The Rebel Rules   \n",
       "1001                      A Curious Mind   \n",
       "622                  Four Thousand Weeks   \n",
       "93    Brief Answers To The Big Questions   \n",
       "398                  A Walk In The Woods   \n",
       "\n",
       "                                              summaries     categories  \\\n",
       "1144   shows you how to turn your ideas into license...      marketing   \n",
       "407    explores ways to unlock your true potential b...  relationships   \n",
       "1039   is a message to everyone who’s not on the soc...   productivity   \n",
       "427    is an ancient, time-proven reference book tha...  relationships   \n",
       "125    explains the problems with society’s obsessio...        science   \n",
       "1168   shows you how you can run a business by being...     management   \n",
       "1001   is an homage to the power of asking questions...   productivity   \n",
       "622    explores the popularized concept of time mana...      happiness   \n",
       "93     tackles some of the universe’s biggest myster...        science   \n",
       "398    tells the interesting story of the adventures...    environment   \n",
       "\n",
       "                                              embedding  \n",
       "1144  [-0.1661913, -0.047558907, -0.057511996, -0.70...  \n",
       "407   [-0.31454104, -0.032631405, 0.5389788, -0.0352...  \n",
       "1039  [0.0068836473, -0.017536815, -0.011931073, -0....  \n",
       "427   [-0.3225811, 0.46354115, 0.15573183, -0.121496...  \n",
       "125   [-0.24232997, -0.07629199, 0.3003001, -0.20524...  \n",
       "1168  [-0.1415425, -0.18809648, -0.047290917, -0.482...  \n",
       "1001  [-0.1691366, 0.451072, 0.13538055, -0.16832036...  \n",
       "622   [-0.32544625, 0.70163804, 0.48712817, -0.25244...  \n",
       "93    [-0.31145382, -0.121578135, -0.124654435, -0.1...  \n",
       "398   [-0.41684574, 0.0908739, 0.6247539, 0.34636876...  "
      ]
     },
     "execution_count": 17,
     "metadata": {},
     "output_type": "execute_result"
    }
   ],
   "source": [
    "books_df.sample(10)"
   ]
  },
  {
   "cell_type": "code",
   "execution_count": 25,
   "id": "f1ccecd2",
   "metadata": {},
   "outputs": [],
   "source": [
    "# Function to find top 5 similar books based on a given title\n",
    "def get_cosine_simiarity(title, df):\n",
    "    book_idx = books_df[books_df['book_name'] == title].index[0]\n",
    "    book_embedding = books_df.loc[book_idx, 'embedding']\n",
    "    similarities = cosine_similarity([book_embedding], books_df['embedding'].tolist()).flatten()\n",
    "    return  similarities"
   ]
  },
  {
   "cell_type": "markdown",
   "id": "082f4537",
   "metadata": {},
   "source": [
    "### Finding Similar Books\n",
    "\n",
    " - The Bitcoin Standard\n",
    " - Measure What Matters\n",
    " - The Happiness Hypothesis"
   ]
  },
  {
   "cell_type": "code",
   "execution_count": 32,
   "id": "1185a663",
   "metadata": {},
   "outputs": [],
   "source": [
    "# Display the titles of the top 5 similar movies for a given movie title\n",
    "sample_name = 'The Bitcoin Standard'\n",
    "similarity = get_cosine_simiarity(sample_name,\n",
    "                                  books_df)"
   ]
  },
  {
   "cell_type": "code",
   "execution_count": 33,
   "id": "1e1d3133",
   "metadata": {},
   "outputs": [],
   "source": [
    "rec_books = books_df.copy()"
   ]
  },
  {
   "cell_type": "code",
   "execution_count": 34,
   "id": "5d3a6786",
   "metadata": {},
   "outputs": [],
   "source": [
    "rec_books['similarity'] = list(similarity)"
   ]
  },
  {
   "cell_type": "code",
   "execution_count": 37,
   "id": "753d269d",
   "metadata": {},
   "outputs": [
    {
     "data": {
      "text/html": [
       "<div>\n",
       "<style scoped>\n",
       "    .dataframe tbody tr th:only-of-type {\n",
       "        vertical-align: middle;\n",
       "    }\n",
       "\n",
       "    .dataframe tbody tr th {\n",
       "        vertical-align: top;\n",
       "    }\n",
       "\n",
       "    .dataframe thead th {\n",
       "        text-align: right;\n",
       "    }\n",
       "</style>\n",
       "<table border=\"1\" class=\"dataframe\">\n",
       "  <thead>\n",
       "    <tr style=\"text-align: right;\">\n",
       "      <th></th>\n",
       "      <th>book_name</th>\n",
       "      <th>summaries</th>\n",
       "      <th>categories</th>\n",
       "      <th>embedding</th>\n",
       "      <th>similarity</th>\n",
       "    </tr>\n",
       "  </thead>\n",
       "  <tbody>\n",
       "    <tr>\n",
       "      <th>366</th>\n",
       "      <td>The Bitcoin Standard</td>\n",
       "      <td>uses the history of money and gold to explain...</td>\n",
       "      <td>economics</td>\n",
       "      <td>[-0.3578873, 0.0131510375, 0.08036052, -0.1801...</td>\n",
       "      <td>1.000000</td>\n",
       "    </tr>\n",
       "    <tr>\n",
       "      <th>370</th>\n",
       "      <td>The Age Of Cryptocurrency</td>\n",
       "      <td>explains the past, present, and future of Bit...</td>\n",
       "      <td>economics</td>\n",
       "      <td>[-0.4667489, -0.21616937, 0.16893215, -0.08813...</td>\n",
       "      <td>0.888518</td>\n",
       "    </tr>\n",
       "    <tr>\n",
       "      <th>829</th>\n",
       "      <td>Blockchain Revolution</td>\n",
       "      <td>explains how the power of this new technology...</td>\n",
       "      <td>money</td>\n",
       "      <td>[-0.44502056, -0.18159947, 0.10160462, -0.2489...</td>\n",
       "      <td>0.845817</td>\n",
       "    </tr>\n",
       "    <tr>\n",
       "      <th>371</th>\n",
       "      <td>Digital Gold</td>\n",
       "      <td>details the beginnings of Bitcoin, including ...</td>\n",
       "      <td>economics</td>\n",
       "      <td>[-0.5247627, -0.075224645, -0.044920057, -0.45...</td>\n",
       "      <td>0.840757</td>\n",
       "    </tr>\n",
       "    <tr>\n",
       "      <th>367</th>\n",
       "      <td>Cryptoassets</td>\n",
       "      <td>is your guide to understanding this revolutio...</td>\n",
       "      <td>economics</td>\n",
       "      <td>[-0.41580233, -0.2714688, 0.31340843, -0.31226...</td>\n",
       "      <td>0.827831</td>\n",
       "    </tr>\n",
       "    <tr>\n",
       "      <th>852</th>\n",
       "      <td>Dollars And Sense</td>\n",
       "      <td>explains why it’s so hard to manage money and...</td>\n",
       "      <td>money</td>\n",
       "      <td>[-0.048160866, -0.37490886, 0.30639285, 0.0366...</td>\n",
       "      <td>0.813202</td>\n",
       "    </tr>\n",
       "  </tbody>\n",
       "</table>\n",
       "</div>"
      ],
      "text/plain": [
       "                     book_name  \\\n",
       "366       The Bitcoin Standard   \n",
       "370  The Age Of Cryptocurrency   \n",
       "829      Blockchain Revolution   \n",
       "371               Digital Gold   \n",
       "367               Cryptoassets   \n",
       "852          Dollars And Sense   \n",
       "\n",
       "                                             summaries categories  \\\n",
       "366   uses the history of money and gold to explain...  economics   \n",
       "370   explains the past, present, and future of Bit...  economics   \n",
       "829   explains how the power of this new technology...      money   \n",
       "371   details the beginnings of Bitcoin, including ...  economics   \n",
       "367   is your guide to understanding this revolutio...  economics   \n",
       "852   explains why it’s so hard to manage money and...      money   \n",
       "\n",
       "                                             embedding  similarity  \n",
       "366  [-0.3578873, 0.0131510375, 0.08036052, -0.1801...    1.000000  \n",
       "370  [-0.4667489, -0.21616937, 0.16893215, -0.08813...    0.888518  \n",
       "829  [-0.44502056, -0.18159947, 0.10160462, -0.2489...    0.845817  \n",
       "371  [-0.5247627, -0.075224645, -0.044920057, -0.45...    0.840757  \n",
       "367  [-0.41580233, -0.2714688, 0.31340843, -0.31226...    0.827831  \n",
       "852  [-0.048160866, -0.37490886, 0.30639285, 0.0366...    0.813202  "
      ]
     },
     "execution_count": 37,
     "metadata": {},
     "output_type": "execute_result"
    }
   ],
   "source": [
    "rec_books.sort_values('similarity', ascending = False)[0:6]"
   ]
  },
  {
   "cell_type": "code",
   "execution_count": null,
   "id": "4cde730f",
   "metadata": {},
   "outputs": [],
   "source": []
  }
 ],
 "metadata": {
  "kernelspec": {
   "display_name": "Python 3 (ipykernel)",
   "language": "python",
   "name": "python3"
  },
  "language_info": {
   "codemirror_mode": {
    "name": "ipython",
    "version": 3
   },
   "file_extension": ".py",
   "mimetype": "text/x-python",
   "name": "python",
   "nbconvert_exporter": "python",
   "pygments_lexer": "ipython3",
   "version": "3.10.9"
  }
 },
 "nbformat": 4,
 "nbformat_minor": 5
}
